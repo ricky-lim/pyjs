{
 "cells": [
  {
   "cell_type": "markdown",
   "metadata": {},
   "source": [
    "# Iteration\n",
    "\n",
    "Iteration beautifully done in both python and javascript"
   ]
  },
  {
   "cell_type": "markdown",
   "metadata": {},
   "source": [
    "## How to iterate"
   ]
  },
  {
   "cell_type": "code",
   "execution_count": 1,
   "metadata": {},
   "outputs": [
    {
     "name": "stdout",
     "output_type": "stream",
     "text": [
      "1\n",
      "2\n",
      "3\n",
      "4\n"
     ]
    }
   ],
   "source": [
    "numbers = [1, 2, 3, 4]\n",
    "for i in numbers:\n",
    "    print(i)"
   ]
  },
  {
   "cell_type": "code",
   "execution_count": 1,
   "metadata": {},
   "outputs": [
    {
     "name": "stdout",
     "output_type": "stream",
     "text": [
      "1\n",
      "2\n",
      "3\n",
      "4\n"
     ]
    },
    {
     "data": {
      "text/plain": [
       "undefined"
      ]
     },
     "execution_count": 1,
     "metadata": {},
     "output_type": "execute_result"
    }
   ],
   "source": [
    "let numbers = [1, 2, 3, 4];\n",
    "\n",
    "for (let i of numbers) {\n",
    "    console.log(i);\n",
    "}"
   ]
  },
  {
   "cell_type": "markdown",
   "metadata": {},
   "source": [
    "## Iterating the iterator once at a time"
   ]
  },
  {
   "cell_type": "code",
   "execution_count": 2,
   "metadata": {},
   "outputs": [
    {
     "name": "stdout",
     "output_type": "stream",
     "text": [
      "The sum is 10\n"
     ]
    }
   ],
   "source": [
    "numbers = [1, 2, 3, 4]\n",
    "sum_numbers = 0\n",
    "iterator = iter(numbers)\n",
    "val = next(iterator)\n",
    "while val:\n",
    "    sum_numbers += val\n",
    "    try:\n",
    "        val = next(iterator)\n",
    "    except StopIteration:\n",
    "        break\n",
    "# no break\n",
    "else:\n",
    "    print(\"something wrong\")\n",
    "print(f\"The sum is {sum_numbers}\")"
   ]
  },
  {
   "cell_type": "code",
   "execution_count": 1,
   "metadata": {},
   "outputs": [
    {
     "name": "stdout",
     "output_type": "stream",
     "text": [
      "The sum is 10\n"
     ]
    },
    {
     "data": {
      "text/plain": [
       "undefined"
      ]
     },
     "execution_count": 1,
     "metadata": {},
     "output_type": "execute_result"
    }
   ],
   "source": [
    "let numbers = [1, 2, 3, 4];\n",
    "let sum_numbers = 0;\n",
    "let iterator = numbers[Symbol.iterator]();\n",
    "let next = iterator.next();\n",
    "\n",
    "while(!next.done) {\n",
    "    sum_numbers += next.value;\n",
    "    next = iterator.next();\n",
    "}\n",
    "console.log(`The sum is ${sum_numbers}`);"
   ]
  },
  {
   "cell_type": "markdown",
   "metadata": {},
   "source": [
    "## Creating your own object iterable"
   ]
  },
  {
   "cell_type": "code",
   "execution_count": 1,
   "metadata": {},
   "outputs": [
    {
     "name": "stdout",
     "output_type": "stream",
     "text": [
      "Total player: 4\n"
     ]
    }
   ],
   "source": [
    "class FootballTeam:\n",
    "    def __init__(self, players=None):\n",
    "        self.players = players if players is not None else []\n",
    "\n",
    "    def add_players(self, *players):\n",
    "        self.players = self.players + list(players)\n",
    "\n",
    "    def __iter__(self):\n",
    "        return PlayerIterator(self.players)\n",
    "\n",
    "\n",
    "class PlayerIterator:\n",
    "    def __init__(self, players):\n",
    "        self.players = players\n",
    "        self.index = 0\n",
    "\n",
    "    def __next__(self):\n",
    "        if self.index < len(self.players):\n",
    "            player = self.players[self.index]\n",
    "            self.index += 1\n",
    "            return player\n",
    "        raise StopIteration\n",
    "\n",
    "\n",
    "fc = FootballTeam()\n",
    "fc.add_players(\"boaz salossa\", \"kurniawan dwi yulianto\", \"bima sakti\", \"bambang pamungkas\")\n",
    "num_player = 0\n",
    "for p in fc:\n",
    "    num_player += 1\n",
    "print(f\"Total player: {num_player}\")"
   ]
  },
  {
   "cell_type": "code",
   "execution_count": 1,
   "metadata": {},
   "outputs": [
    {
     "data": {
      "text/plain": [
       "Company { employee: [] }"
      ]
     },
     "execution_count": 1,
     "metadata": {},
     "output_type": "execute_result"
    }
   ],
   "source": [
    "class FootballTeam {\n",
    "    constructor() {\n",
    "        this.players = []\n",
    "    }\n",
    "\n",
    "    addPlayers(...names) {\n",
    "        this.players = this.players.concat(names)\n",
    "    }\n",
    "\n",
    "    [Symbol.iterator]() {\n",
    "        return new PlayerIterator(this.players);\n",
    "    }\n",
    "\n",
    "}\n",
    "\n",
    "class PlayerIterator {\n",
    "    constructor(players) {\n",
    "        this.players = players;\n",
    "        this.index = 0;\n",
    "    }\n",
    "\n",
    "    next() {\n",
    "        let res = {value: undefined, done: true};\n",
    "        if (this.index < this.players.length) {\n",
    "            res.value = this.players[this.index];\n",
    "            res.done = false;\n",
    "            this.index += 1;\n",
    "        }\n",
    "        return res;\n",
    "\n",
    "    }\n",
    "}\n",
    "\n",
    "let fc = new FootballTeam();\n",
    "fc.addPlayers(\"boaz salossa\", \"kurniawan dwi yulianto\", \"bima sakti\", \"bambang pamungkas\");\n",
    "\n",
    "let num_player = 0;\n",
    "for (let p of fc) {\n",
    "    num_player += 1;\n",
    "}\n",
    "\n",
    "console.log(`Total player: ${num_player}`);"
   ]
  },
  {
   "cell_type": "code",
   "execution_count": null,
   "metadata": {},
   "outputs": [],
   "source": []
  }
 ],
 "metadata": {
  "kernelspec": {
   "display_name": "Python3.6 (pyjs)",
   "language": "python",
   "name": "pyjs"
  },
  "language_info": {
   "codemirror_mode": {
    "name": "ipython",
    "version": 3
   },
   "file_extension": ".py",
   "mimetype": "text/x-python",
   "name": "python",
   "nbconvert_exporter": "python",
   "pygments_lexer": "ipython3",
   "version": "3.6.4"
  }
 },
 "nbformat": 4,
 "nbformat_minor": 1
}
