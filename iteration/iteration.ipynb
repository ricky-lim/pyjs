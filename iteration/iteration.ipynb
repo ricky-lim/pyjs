{
 "cells": [
  {
   "cell_type": "markdown",
   "metadata": {},
   "source": [
    "# Iteration\n",
    "\n",
    "Iteration beautifully done in both `python` and `javascript`"
   ]
  },
  {
   "cell_type": "markdown",
   "metadata": {},
   "source": [
    "## How to iterate"
   ]
  },
  {
   "cell_type": "code",
   "execution_count": 1,
   "metadata": {},
   "outputs": [
    {
     "name": "stdout",
     "output_type": "stream",
     "text": [
      "1\n",
      "2\n",
      "3\n",
      "4\n"
     ]
    }
   ],
   "source": [
    "numbers = [1, 2, 3, 4]\n",
    "for i in numbers:\n",
    "    print(i)"
   ]
  },
  {
   "cell_type": "code",
   "execution_count": 1,
   "metadata": {},
   "outputs": [
    {
     "name": "stdout",
     "output_type": "stream",
     "text": [
      "1\n",
      "2\n",
      "3\n",
      "4\n"
     ]
    },
    {
     "data": {
      "text/plain": [
       "undefined"
      ]
     },
     "execution_count": 1,
     "metadata": {},
     "output_type": "execute_result"
    }
   ],
   "source": [
    "let numbers = [1, 2, 3, 4];\n",
    "\n",
    "for (let i of numbers) {\n",
    "    console.log(i);\n",
    "}"
   ]
  },
  {
   "cell_type": "markdown",
   "metadata": {},
   "source": [
    "## Iterating the iterator once at a time\n",
    "\n",
    "Two basic functions of iteration:\n",
    "- `__iter__` in py and `[Symbol.iterator]()` in js, is to create an iterator, and being called on iterable\n",
    "- `__next__` in py and `next()` in js, is to get the next element in a sequence of objects, and being called on iterator\n"
   ]
  },
  {
   "cell_type": "code",
   "execution_count": 2,
   "metadata": {},
   "outputs": [
    {
     "name": "stdout",
     "output_type": "stream",
     "text": [
      "The sum is 10\n"
     ]
    }
   ],
   "source": [
    "numbers = [1, 2, 3, 4]\n",
    "sum_numbers = 0\n",
    "iterator = iter(numbers)\n",
    "val = next(iterator)\n",
    "while val:\n",
    "    sum_numbers += val\n",
    "    try:\n",
    "        val = next(iterator)\n",
    "    except StopIteration:\n",
    "        break\n",
    "# no break\n",
    "else:\n",
    "    print(\"something wrong\")\n",
    "print(f\"The sum is {sum_numbers}\")"
   ]
  },
  {
   "cell_type": "code",
   "execution_count": 1,
   "metadata": {},
   "outputs": [
    {
     "name": "stdout",
     "output_type": "stream",
     "text": [
      "The sum is 10\n"
     ]
    },
    {
     "data": {
      "text/plain": [
       "undefined"
      ]
     },
     "execution_count": 1,
     "metadata": {},
     "output_type": "execute_result"
    }
   ],
   "source": [
    "let numbers = [1, 2, 3, 4];\n",
    "let sum_numbers = 0;\n",
    "let iterator = numbers[Symbol.iterator]();\n",
    "let next = iterator.next();\n",
    "\n",
    "while(!next.done) {\n",
    "    sum_numbers += next.value;\n",
    "    next = iterator.next();\n",
    "}\n",
    "console.log(`The sum is ${sum_numbers}`);"
   ]
  },
  {
   "cell_type": "markdown",
   "metadata": {},
   "source": [
    "## Creating your own object iterable"
   ]
  },
  {
   "cell_type": "code",
   "execution_count": 12,
   "metadata": {},
   "outputs": [
    {
     "name": "stdout",
     "output_type": "stream",
     "text": [
      "Total player: 4\n"
     ]
    }
   ],
   "source": [
    "class FootballTeam:\n",
    "    def __init__(self, players=None):\n",
    "        self.players = players if players is not None else []\n",
    "\n",
    "    def add_players(self, *players):\n",
    "        self.players = self.players + list(players)\n",
    "\n",
    "    def __iter__(self):\n",
    "        return PlayerIterator(self.players)\n",
    "\n",
    "\n",
    "class PlayerIterator:\n",
    "    def __init__(self, players):\n",
    "        self.players = players\n",
    "        self.index = 0\n",
    "\n",
    "    def __next__(self):\n",
    "        if self.index >= len(self.players):\n",
    "            raise StopIteration\n",
    "        player = self.players[self.index]\n",
    "        self.index += 1\n",
    "        return player\n",
    "\n",
    "\n",
    "fc = FootballTeam()\n",
    "fc.add_players(\"boaz salossa\", \"kurniawan dwi yulianto\", \"bima sakti\", \"bambang pamungkas\")\n",
    "num_player = 0\n",
    "for p in fc:\n",
    "    num_player += 1\n",
    "print(f\"Total player: {num_player}\")"
   ]
  },
  {
   "cell_type": "code",
   "execution_count": 1,
   "metadata": {},
   "outputs": [
    {
     "name": "stdout",
     "output_type": "stream",
     "text": [
      "Total player: 4\n"
     ]
    },
    {
     "data": {
      "text/plain": [
       "undefined"
      ]
     },
     "execution_count": 1,
     "metadata": {},
     "output_type": "execute_result"
    }
   ],
   "source": [
    "class FootballTeam {\n",
    "    constructor() {\n",
    "        this.players = []\n",
    "    }\n",
    "\n",
    "    addPlayers(...names) {\n",
    "        this.players = this.players.concat(names)\n",
    "    }\n",
    "\n",
    "    [Symbol.iterator]() {\n",
    "        return new PlayerIterator(this.players);\n",
    "    }\n",
    "\n",
    "}\n",
    "\n",
    "class PlayerIterator {\n",
    "    constructor(players) {\n",
    "        this.players = players;\n",
    "        this.index = 0;\n",
    "    }\n",
    "\n",
    "    next() {\n",
    "        let res = {value: undefined, done: true};\n",
    "        if (this.index < this.players.length) {\n",
    "            res.value = this.players[this.index];\n",
    "            res.done = false;\n",
    "            this.index += 1;\n",
    "        }\n",
    "        return res;\n",
    "\n",
    "    }\n",
    "}\n",
    "\n",
    "let fc = new FootballTeam();\n",
    "fc.addPlayers(\"boaz salossa\", \"kurniawan dwi yulianto\", \"bima sakti\", \"bambang pamungkas\");\n",
    "\n",
    "let num_player = 0;\n",
    "for (let p of fc) {\n",
    "    num_player += 1;\n",
    "}\n",
    "\n",
    "console.log(`Total player: ${num_player}`);"
   ]
  },
  {
   "cell_type": "markdown",
   "metadata": {},
   "source": [
    "## Python iteration to infinity\n",
    "\n",
    "Extra for python iteration, that `iter()` takes a callable and sentinel as its arguments, i.e. \n",
    "`iter(<callable>, <sentinel>)`\n",
    "\n",
    "- callable is any object that returns True from a function call of `callable(object)`.\n",
    "- sentinel is the value returned by the callable object that stops the iteration."
   ]
  },
  {
   "cell_type": "code",
   "execution_count": 5,
   "metadata": {},
   "outputs": [
    {
     "data": {
      "text/plain": [
       "datetime.datetime(2018, 7, 3, 21, 44, 54, 814733)"
      ]
     },
     "execution_count": 5,
     "metadata": {},
     "output_type": "execute_result"
    }
   ],
   "source": [
    "# iterating for infinite sequences\n",
    "import datetime\n",
    "infinite_datetime = iter(datetime.datetime.now, None)\n",
    "next(infinite_datetime)\n",
    "next(infinite_datetime)\n",
    "# ... go on forever\n",
    "\n",
    "# please try it (by uncomment below), to get to see the infinite sequence of time\n",
    "# and press CTRL + C, to end it like a boss!\n",
    "\n",
    "# now = next(infinite_datetime)\n",
    "# while now:\n",
    "#    print(now)\n",
    "#    now = next(infinite_datetime)\n"
   ]
  },
  {
   "cell_type": "code",
   "execution_count": 10,
   "metadata": {},
   "outputs": [
    {
     "name": "stdout",
     "output_type": "stream",
     "text": [
      "Here I am,\r\n",
      "This is super important for you to read\r\n",
      "END HERE\r\n",
      "This should not be read\r\n",
      "Not a chance!\r\n"
     ]
    }
   ],
   "source": [
    "!cat text_with_end.txt"
   ]
  },
  {
   "cell_type": "code",
   "execution_count": 1,
   "metadata": {},
   "outputs": [
    {
     "name": "stdout",
     "output_type": "stream",
     "text": [
      "Here I am,\n",
      "This is super important for you to read\n"
     ]
    }
   ],
   "source": [
    "# read file, line by line until the callable produces the sentinel value, in this example which is, \"END HERE\" \n",
    "with open(\"text_with_end.txt\", \"rt\") as in_file:\n",
    "    for l in iter(lambda: in_file.readline().strip(), \"END HERE\"):\n",
    "        print(l)"
   ]
  },
  {
   "cell_type": "markdown",
   "metadata": {},
   "source": [
    "## Generator\n",
    "\n",
    "Generator is a function that generates an iterator in a lazy way, one at a time.\n",
    "\n",
    "The keyword of generator is `yield` instead of `return`. Let's talk about it, briefly.\n",
    "\n",
    "The main difference that `yield` will return the thread of execution back to the caller (function) but only **temporarily** so that, it could **resume**. Think about it, like when you drive you need to yield at the roundabout (the triangle sign) so other cars could go circle through and you could resume driving at later time.\n",
    "\n",
    "So to sum up, `return` statement will throw away **permanently** a function's local state, where `yield` keeps the local state so it could be **resumed** at any time by calling `next()`.\n",
    "\n",
    "On top of that, in `js` the generator function is suffixed with an asterix or `function*` and uses `yield`. In python, it is simpler, just `yield`.\n",
    "\n",
    "Takes time to play with the codes below to get your hands dirty with such *crazily* awesome concept! As this concept could help us understand many interesting programming *Abracadabras*, such as **async** programming, doing multiple things at once, like we normally do in our normal life :).\n"
   ]
  },
  {
   "cell_type": "code",
   "execution_count": 1,
   "metadata": {},
   "outputs": [
    {
     "name": "stdout",
     "output_type": "stream",
     "text": [
      "The sum is 10\n"
     ]
    },
    {
     "data": {
      "text/plain": [
       "undefined"
      ]
     },
     "execution_count": 1,
     "metadata": {},
     "output_type": "execute_result"
    }
   ],
   "source": [
    "function* number_gen() {\n",
    "    yield 1;\n",
    "    yield 2;\n",
    "    yield 3;\n",
    "    yield 4;\n",
    "}\n",
    "\n",
    "let sum_num = 0;\n",
    "let number_iterator = number_gen();\n",
    "let next_num = number_iterator.next();\n",
    "while(!next_num.done) {\n",
    "    sum_num += next_num.value;\n",
    "    next_num = number_iterator.next();\n",
    "}\n",
    "\n",
    "console.log(`The sum is ${sum_num}`);"
   ]
  },
  {
   "cell_type": "code",
   "execution_count": 1,
   "metadata": {},
   "outputs": [
    {
     "name": "stdout",
     "output_type": "stream",
     "text": [
      "The sum is 10\n"
     ]
    }
   ],
   "source": [
    "def number_gen():\n",
    "    yield 1\n",
    "    yield 2\n",
    "    yield 3\n",
    "    yield 4\n",
    "\n",
    "\n",
    "sum_num = 0\n",
    "number_iterator = number_gen()\n",
    "next_num = next(number_iterator)\n",
    "while next_num:\n",
    "    sum_num += next_num\n",
    "    try:\n",
    "        next_num = next(number_iterator)\n",
    "    except StopIteration:\n",
    "        break\n",
    "# no break\n",
    "else:\n",
    "    print(\"something wrong\")\n",
    "print(f\"The sum is {sum_num}\")"
   ]
  },
  {
   "cell_type": "markdown",
   "metadata": {},
   "source": [
    "## Simplifying our iterable class with the concept of generator"
   ]
  },
  {
   "cell_type": "code",
   "execution_count": 1,
   "metadata": {},
   "outputs": [
    {
     "name": "stdout",
     "output_type": "stream",
     "text": [
      "Total lazy player: 8\n"
     ]
    },
    {
     "data": {
      "text/plain": [
       "undefined"
      ]
     },
     "execution_count": 1,
     "metadata": {},
     "output_type": "execute_result"
    }
   ],
   "source": [
    "class LazyFootballTeam {\n",
    "    constructor() {\n",
    "        this.players = []\n",
    "    }\n",
    "\n",
    "    addPlayers(...names) {\n",
    "        this.players = this.players.concat(names)\n",
    "    }\n",
    "\n",
    "    *[Symbol.iterator]() {\n",
    "        for (let p of this.players) {\n",
    "            yield p\n",
    "        }\n",
    "    }\n",
    "\n",
    "}\n",
    "\n",
    "let lfc = new LazyFootballTeam();\n",
    "lfc.addPlayers(\"Ronaldo\", \"Ricky\", \"Messi\", \"Inzaghi\", \"Del Piero\", \"Nesta\", \"Iniesta\", \"Ricardo\");\n",
    "\n",
    "let lazy_num_player = 0;\n",
    "for (let p of lfc) {\n",
    "    lazy_num_player += 1;\n",
    "}\n",
    "\n",
    "console.log(`Total lazy player: ${lazy_num_player}`);"
   ]
  },
  {
   "cell_type": "code",
   "execution_count": 2,
   "metadata": {},
   "outputs": [
    {
     "name": "stdout",
     "output_type": "stream",
     "text": [
      "Total lazy player: 8\n"
     ]
    }
   ],
   "source": [
    "class LazyFootballTeam:\n",
    "    def __init__(self, players=None):\n",
    "        self.players = players if players is not None else []\n",
    "\n",
    "    def add_players(self, *players):\n",
    "        self.players = self.players + list(players)\n",
    "\n",
    "    def __iter__(self):\n",
    "        for _ in self.players:\n",
    "            yield _\n",
    "\n",
    "\n",
    "lfc = LazyFootballTeam()\n",
    "lfc.add_players(\"Ronaldo\", \"Ricky\", \"Messi\", \"Inzaghi\", \"Del Piero\", \"Nesta\", \"Iniesta\", \"Ricardo\")\n",
    "lazy_num_player = 0\n",
    "for p in lfc:\n",
    "    lazy_num_player += 1\n",
    "print(f\"Total lazy player: {lazy_num_player}\")"
   ]
  },
  {
   "cell_type": "markdown",
   "metadata": {},
   "source": [
    "## Being functionally lazy is good\n",
    "\n",
    "Okay, why should we bother with being **functionally lazy** ?\n",
    "\n",
    "Imagine that you have a collection of million objects, and you are only interested in a subset of it.\n",
    "And worse than that, you have a machine with only tiny memory to compute and you are a cheap guy, but smart one.\n",
    "\n",
    "In this scenario, given your smart brain you could use generator concept functionally, **to the rescue!**\n",
    "**Being functionally lazy** with generator makes computing cheap and more efficient based on the *least amount of work done's* principle.\n",
    "\n",
    "> Laziness could speed you up, once you are **functional** in understanding **generator**\n",
    "\n",
    "For this fake demo, we would like to recruit only 2 players that start with **R** from our lazy football team.\n",
    "And of course, it is polluted with my favorite letter."
   ]
  },
  {
   "cell_type": "code",
   "execution_count": 2,
   "metadata": {},
   "outputs": [
    {
     "name": "stdout",
     "output_type": "stream",
     "text": [
      "The superstar players start with R: Ronaldo,Ricky\n"
     ]
    },
    {
     "data": {
      "text/plain": [
       "undefined"
      ]
     },
     "execution_count": 2,
     "metadata": {},
     "output_type": "execute_result"
    }
   ],
   "source": [
    "function *filter_player(players, criteria) {\n",
    "    for (let player of players) {\n",
    "        if (criteria(player)) {\n",
    "            yield player\n",
    "        }\n",
    "    }\n",
    "}\n",
    "\n",
    "function *take_player(players, number) {\n",
    "    if (number < 1) return;\n",
    "    let count = 0;\n",
    "    for (let player of players) {\n",
    "        yield player;\n",
    "        count += 1;\n",
    "        if (count >= number) {\n",
    "            // stop the iterator permanently\n",
    "            return;\n",
    "        }\n",
    "    }\n",
    "}\n",
    "\n",
    "let r_player = [];\n",
    "for (let player of take_player(filter_player(lfc, p => p[0] === \"R\"), 2)) {\n",
    "    r_player.push(player);\n",
    "}\n",
    "console.log(`The superstar players start with R: ${r_player}`);"
   ]
  },
  {
   "cell_type": "code",
   "execution_count": 4,
   "metadata": {},
   "outputs": [
    {
     "name": "stdout",
     "output_type": "stream",
     "text": [
      "The superstar players start with R: Ronaldo,Ricky\n"
     ]
    }
   ],
   "source": [
    "def filter_player(players, criteria):\n",
    "    for _player in players:\n",
    "        if criteria(_player):\n",
    "            yield _player\n",
    "\n",
    "\n",
    "def take_player(players, number):\n",
    "    if number < 1:\n",
    "        return\n",
    "    count = 0\n",
    "    for _player in players:\n",
    "        yield _player\n",
    "        count += 1\n",
    "        if count >= number:\n",
    "            return\n",
    "\n",
    "\n",
    "r_player = []\n",
    "for player in take_player(filter_player(lfc, lambda x: x[0] == \"R\"), 2):\n",
    "    r_player.append(player)\n",
    "\n",
    "print(f\"The superstar players start with R: {','.join(r_player)}\")"
   ]
  },
  {
   "cell_type": "markdown",
   "metadata": {},
   "source": [
    "## Generator not only can be paused, but also can send something back\n",
    "\n",
    "In py, the method is called `.send(<value>)` and in js, is `next(<value>)` on its generator object."
   ]
  },
  {
   "cell_type": "code",
   "execution_count": 1,
   "metadata": {},
   "outputs": [
    {
     "name": "stdout",
     "output_type": "stream",
     "text": [
      "Odd numbers: 1,3,5,7,9\n"
     ]
    },
    {
     "data": {
      "text/plain": [
       "undefined"
      ]
     },
     "execution_count": 1,
     "metadata": {},
     "output_type": "execute_result"
    }
   ],
   "source": [
    "function *jumping_range(start, end) {\n",
    "    let current = start;\n",
    "    while(current <= end) {\n",
    "        let jump = yield current;\n",
    "        current += jump || 1;\n",
    "    }\n",
    "}\n",
    "\n",
    "let res_odd = [];\n",
    "let odd_number_gen = jumping_range(start=1, end=10);\n",
    "let next_odd = odd_number_gen.next();\n",
    "while (!next_odd.done){\n",
    "    res_odd.push(next_odd.value);\n",
    "    // next(2) is to send back the value (in this case, 2),\n",
    "    // where it stops its thread of execution\n",
    "    // this value is stored as jump in the generator\n",
    "    next_odd = odd_number_gen.next(2);\n",
    "}\n",
    "\n",
    "console.log(`Odd numbers: ${res_odd}`);"
   ]
  },
  {
   "cell_type": "code",
   "execution_count": 2,
   "metadata": {},
   "outputs": [
    {
     "name": "stdout",
     "output_type": "stream",
     "text": [
      "Odd numbers: [1, 3, 6, 9]\n"
     ]
    }
   ],
   "source": [
    "def jumping_range(start, end):\n",
    "    current = start\n",
    "    while current <= end:\n",
    "        jump = yield current\n",
    "        current += jump if jump else 1\n",
    "\n",
    "\n",
    "res_odd = []\n",
    "odd_number_gen = jumping_range(start=1, end=10)\n",
    "next_odd = next(odd_number_gen)\n",
    "res_odd.append(next_odd)\n",
    "while next_odd:\n",
    "    try:\n",
    "        # send(2) is to send back the value (in this case, 2),\n",
    "        # where it stops its thread of execution\n",
    "        # this value is stored as jump in the generator\n",
    "        res_odd.append((odd_number_gen.send(2)))\n",
    "        next_odd = next(odd_number_gen)\n",
    "    except StopIteration:\n",
    "        break\n",
    "# no break\n",
    "else:\n",
    "    print(\"something wrong\")\n",
    "\n",
    "print(f\"Odd numbers: {res_odd}\")"
   ]
  },
  {
   "cell_type": "markdown",
   "metadata": {},
   "source": [
    "# generator comprehension\n",
    "\n",
    "The idea of comprehension is to simplify the syntax, becoming terse to write for lazy programmers.\n",
    "\n",
    "Although it's cool to be short, please always prefer to be readable.\n",
    "After all it will save \"The-future-You\" in maintaining your code.\n",
    "\n",
    "Python and javascript uses `(<expression>)` as their syntatic-sugars for generator expression.\n"
   ]
  },
  {
   "cell_type": "code",
   "execution_count": 2,
   "metadata": {},
   "outputs": [
    {
     "name": "stdout",
     "output_type": "stream",
     "text": [
      "0\n",
      "1\n",
      "4\n",
      "9\n"
     ]
    }
   ],
   "source": [
    "square_num = (n*n for n in range(4))\n",
    "square_num\n",
    "\n",
    "for i in square_num:\n",
    "    print(i)"
   ]
  },
  {
   "cell_type": "code",
   "execution_count": 4,
   "metadata": {},
   "outputs": [
    {
     "ename": "SyntaxError",
     "evalue": "Unexpected token for",
     "output_type": "error",
     "traceback": [
      "evalmachine.<anonymous>:8",
      "square_num = (for n of range(0,4) n*n)",
      "              ^^^",
      "",
      "SyntaxError: Unexpected token for",
      "    at createScript (vm.js:80:10)",
      "    at Object.runInThisContext (vm.js:139:10)",
      "    at run ([eval]:1002:15)",
      "    at onRunRequest ([eval]:829:18)",
      "    at onMessage ([eval]:789:13)",
      "    at emitTwo (events.js:126:13)",
      "    at process.emit (events.js:214:7)",
      "    at emit (internal/child_process.js:772:12)",
      "    at _combinedTickCallback (internal/process/next_tick.js:141:11)",
      "    at process._tickCallback (internal/process/next_tick.js:180:9)"
     ]
    }
   ],
   "source": [
    "// generator comprehension syntax, however did not make it into es6 ;( !\n",
    "function *range(start, end) {\n",
    "    let current = start ;\n",
    "    while(current <= end -1 ) {\n",
    "        yield current;\n",
    "        current += 1\n",
    "    }\n",
    "}\n",
    "\n",
    "square_num = (for n of range(0,4) n*n)\n",
    "\n",
    "for (let n of square_num) {\n",
    "    console.log(n);\n",
    "}"
   ]
  }
 ],
 "metadata": {
  "kernelspec": {
   "display_name": "Python3.6 (pyjs)",
   "language": "python",
   "name": "pyjs"
  },
  "language_info": {
   "codemirror_mode": {
    "name": "ipython",
    "version": 3
   },
   "file_extension": ".py",
   "mimetype": "text/x-python",
   "name": "python",
   "nbconvert_exporter": "python",
   "pygments_lexer": "ipython3",
   "version": "3.6.4"
  }
 },
 "nbformat": 4,
 "nbformat_minor": 1
}
