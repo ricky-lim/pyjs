{
 "cells": [
  {
   "cell_type": "markdown",
   "metadata": {},
   "source": [
    "# Builtin\n",
    "\n",
    "Builtin data types are the *core* data types that a programming language provides, **right out of the box**.\n",
    "In this scenario, you do **not** need to `import <package>` in py or `import \"<package>\"` in js. There are just there for you!\n",
    "\n",
    "These are the stuffs that **Guido van Rossum** and **Brendan Eich** created, in the beginning. We will dig into some of them, here.\n",
    "\n",
    "Please bear with me. And hopefully in the end you will be smilling after understanding some awesome builtins in both python and javascript."
   ]
  },
  {
   "cell_type": "markdown",
   "metadata": {},
   "source": [
    "## Number\n",
    "\n",
    "A computer is just a computing unit, so let's start with numbers, as it's *everywhere*.\n",
    "\n",
    "Here, we focus on, **how python and javascript deal with numbers?**\n",
    "\n",
    "In python, numbers were dealt as two types:\n",
    "\n",
    "- `int` which is a signed integer with unlimited precision (well...not completely true though, as it is still being limited by your memory space to store every bit of your *grossly* large number)\n",
    "- `float` which is a finite precision, implemented as IEEE-754 double precision (64-bit) or `double` from C, ported towards cpython.\n",
    "\n",
    "But, what the heck is it about 64-bit?\n",
    "\n",
    "*bit* is a smallest unit in our old-fashioned computing system so it's either 0 or 1, basically only two states.\n",
    "With 64bit-machine it means: 1 bit is used for the sign, 11 bits for exponent and 52 bits are for the fraction or significant. There you have it to store floats. \n",
    "\n",
    "Taken this with the way our encoding works, we end up with 53 bits of binary precision for the float.\n",
    "What does it mean? It means that up to $2^{53}$, it could be converted to float without losing any precision.\n",
    "Or the biggest number, limited up to $2^{53}$, that can be represented correctly by both `float` and `int` types.\n",
    "There lies the limit of doing arithmetic with floats.\n",
    "\n",
    "Meanwhile in javascript, number has only a single representation as 64-bit, like python float, which is `Number`, in which `Number.isInteger(1.0) === Number.isInteger(1)`. To get `Number.isInteger()` returns false you need to add at least 2 decimals, such as this expression would return true, `Number.isInteger(1.52) === false`\n",
    "\n",
    "Great, it is only one type of number, i.e, `Number` in js, meaning it is simple and convenient. \n",
    "Unfortunately..., the precision is limited to 53 bits, i.e, $2^{53}$. Beyond that, it will come as a surprise as we will see later on.\n",
    "\n",
    "The safe range integer, $x$, for javascript: $-2^{53} + 1 < x < 2^{53} - 1 $\n",
    "\n",
    "Note that this basic repo does not touch on any kind of detail implementations of floating-point.\n",
    "But for your curiosity, please read further to Goldberg, 1991, *What every computer scientist should know about floating-point arithmetic*.\n",
    "\n",
    "Enough with the theory, here we go next to put our hands dirty, playing with number types and also a few of different literal types of numbers, and *last but not least*, a demo of rounding-error we should be **aware of** to avoid floating-number *errors* in both languages\n"
   ]
  },
  {
   "cell_type": "markdown",
   "metadata": {},
   "source": [
    "### `binary`, `octal`, and `hexa` types\n",
    "\n",
    "Both in py and js, the syntax to represent these different types are similar:\n",
    "- `binary`: `0b`\n",
    "- `octal`: `0o`\n",
    "- `hexa`: `0x`\n",
    "\n",
    "Below are the gist for different base number conversions."
   ]
  },
  {
   "cell_type": "code",
   "execution_count": 16,
   "metadata": {},
   "outputs": [
    {
     "name": "stdout",
     "output_type": "stream",
     "text": [
      "0b1111100111 is 999\n",
      "0o1747 is 999\n",
      "0x3E7 is 999\n",
      "binary of 9999 1111100111\n",
      "oct of 9999 1747\n",
      "hex of 9999 3e7\n"
     ]
    }
   ],
   "source": [
    "# convert to decimal\n",
    "great_bin = 0b1111100111\n",
    "great_oct = 0o1747\n",
    "great_hex = 0x3E7\n",
    "\n",
    "print(f\"0b1111100111 is {great_bin}\")\n",
    "print(f\"0o1747 is {great_oct}\")\n",
    "print(f\"0x3E7 is {great_hex}\")\n",
    "\n",
    "# convert from decimal\n",
    "print(f\"binary of 9999 {bin(999)[2:]}\")\n",
    "print(f\"oct of 9999 {oct(999)[2:]}\")\n",
    "print(f\"hex of 9999 {hex (999)[2:]}\")"
   ]
  },
  {
   "cell_type": "code",
   "execution_count": 1,
   "metadata": {},
   "outputs": [
    {
     "name": "stdout",
     "output_type": "stream",
     "text": [
      "0b1111100111 is 999\n",
      "0o1747 is 999\n",
      "0x3E7 is 999\n",
      "binary of 999 1111100111\n",
      "oct of 999 1747\n",
      "hex of 999 3e7\n"
     ]
    },
    {
     "data": {
      "text/plain": [
       "undefined"
      ]
     },
     "execution_count": 1,
     "metadata": {},
     "output_type": "execute_result"
    }
   ],
   "source": [
    "// convert to decimal\n",
    "let great_bin =  Number(0b1111100111);\n",
    "let great_oct = Number(0o1747);\n",
    "let great_hex = Number(0x3E7);\n",
    "\n",
    "console.log(`0b1111100111 is ${great_bin}`);\n",
    "console.log(`0o1747 is ${great_oct}`);\n",
    "console.log(`0x3E7 is ${great_hex}`);\n",
    "\n",
    "// convert from decimal\n",
    "console.log(`binary of 999 ${Number(999).toString(base=2)}`);\n",
    "console.log(`oct of 999 ${Number(999).toString(base=8)}`);\n",
    "console.log(`hex of 999 ${Number(999).toString(base=16)}`);\n"
   ]
  },
  {
   "cell_type": "markdown",
   "metadata": {},
   "source": [
    "### Rounding errors\n",
    "\n",
    "Python, fortunately does not have a integer problem like javascript.\n",
    "Unfortunately, both languages suffer off-precision with floating numbers"
   ]
  },
  {
   "cell_type": "code",
   "execution_count": 11,
   "metadata": {},
   "outputs": [
    {
     "data": {
      "text/plain": [
       "sys.float_info(max=1.7976931348623157e+308, max_exp=1024, max_10_exp=308, min=2.2250738585072014e-308, min_exp=-1021, min_10_exp=-307, dig=15, mant_dig=53, epsilon=2.220446049250313e-16, radix=2, rounds=1)"
      ]
     },
     "execution_count": 11,
     "metadata": {},
     "output_type": "execute_result"
    },
    {
     "name": "stdout",
     "output_type": "stream",
     "text": [
      "arimethic with int works as expected\n",
      "2**53 is 9007199254740992\n",
      "2**53 + 1 is 9007199254740993\n",
      "2**53 + 2 is 9007199254740994\n",
      "2**53 + 3 is 9007199254740995\n",
      "arimethic with float works as surprised\n",
      "2**53 is 9007199254740992.0\n",
      "2**53 + 1 is 9007199254740992.0 which is wrong\n",
      "2**53 + 2 is 9007199254740994.0 which is correct again\n",
      "2**53 + 3 is 9007199254740996.0 which is wrong again\n",
      "decimal arimethic is represented as finite precision\n",
      "0.9-0.6 is 0.30000000000000004\n"
     ]
    }
   ],
   "source": [
    "# python number limit\n",
    "from IPython.core.interactiveshell import InteractiveShell\n",
    "InteractiveShell.ast_node_interactivity = \"all\"\n",
    "\n",
    "import sys\n",
    "sys.float_info\n",
    "print(\"arimethic with int works as expected\")\n",
    "print(f\"2**53 is {2**53}\")\n",
    "print(f\"2**53 + 1 is {2**53 + 1}\")\n",
    "print(f\"2**53 + 2 is {2**53 + 2}\")\n",
    "print(f\"2**53 + 3 is {2**53 + 3}\")\n",
    "\n",
    "# below is the scenario\n",
    "print(\"arimethic with float works as surprised\")\n",
    "print(f\"2**53 is {float(2**53)}\")\n",
    "print(f\"2**53 + 1 is {float(2**53 + 1)} which is wrong\")\n",
    "print(f\"2**53 + 2 is {float(2**53 + 2)} which is correct again\")\n",
    "print(f\"2**53 + 3 is {float(2**53 + 3)} which is wrong again\")\n",
    "\n",
    "print(\"decimal arimethic is represented as finite precision\")\n",
    "print(f\"0.9-0.6 is {0.9-0.6}\")"
   ]
  },
  {
   "cell_type": "code",
   "execution_count": 1,
   "metadata": {},
   "outputs": [
    {
     "name": "stdout",
     "output_type": "stream",
     "text": [
      "arimethic with number works as surprised\n",
      "2**53 is 9007199254740992\n",
      "2**53 + 1 is 9007199254740992 which is wrong\n",
      "2**53 + 2 is 9007199254740994 which correct\n",
      "2**53 + 3 is 9007199254740996 which is wrong\n",
      "decimal arimethic is represented as finite precision\n",
      "0.9-0.6 is 0.30000000000000004\n"
     ]
    },
    {
     "data": {
      "text/plain": [
       "undefined"
      ]
     },
     "execution_count": 1,
     "metadata": {},
     "output_type": "execute_result"
    }
   ],
   "source": [
    "// javascript number limit\n",
    "Number.MAX_SAFE_INTEGER === Math.pow(2, 53) - 1\n",
    "Number.MIN_SAFE_INTEGER === Math.pow(2, 53) * -1 + 1\n",
    "\n",
    "console.log(\"arimethic with number works as surprised\");\n",
    "console.log(`2**53 is ${2**53}`);\n",
    "console.log(`2**53 + 1 is ${2**53 + 1} which is wrong`);\n",
    "console.log(`2**53 + 2 is ${2**53 + 2} which correct`);\n",
    "console.log(`2**53 + 3 is ${2**53 + 3} which is wrong`);\n",
    "\n",
    "console.log(\"decimal arimethic is represented as finite precision\");\n",
    "console.log(`0.9-0.6 is ${0.9-0.6}`);"
   ]
  }
 ],
 "metadata": {
  "kernelspec": {
   "display_name": "Javascript (Node.js)",
   "language": "javascript",
   "name": "javascript"
  },
  "language_info": {
   "file_extension": ".js",
   "mimetype": "application/javascript",
   "name": "javascript",
   "version": "8.10.0"
  }
 },
 "nbformat": 4,
 "nbformat_minor": 2
}
